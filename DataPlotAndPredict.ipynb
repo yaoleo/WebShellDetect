{
 "cells": [
  {
   "cell_type": "code",
   "execution_count": 2,
   "metadata": {
    "collapsed": true
   },
   "outputs": [],
   "source": []
  },
  {
   "cell_type": "code",
   "execution_count": 3,
   "metadata": {
    "collapsed": false
   },
   "outputs": [],
   "source": [
    "\n",
    "shellLocation=\"dealdata.txt\"\n",
    "\n",
    "edudf = pd.read_csv(eduLocation,sep=\"\\t\", header=None,names = [\"fsize\",\"ftagnum\",\"flinecount\",\"ftagtype\",\"fflag\"])\n",
    "shelldf=pd.read_csv(shellLocation,sep=\"\\t\", header=None,names = [\"fsize\",\"ftagnum\",\"flinecount\",\"ftagtype\",\"fflag\"])"
   ]
  },
  {
   "cell_type": "code",
   "execution_count": 4,
   "metadata": {
    "collapsed": false
   },
   "outputs": [
    {
     "data": {
      "text/html": [
       "<div>\n",
       "<table border=\"1\" class=\"dataframe\">\n",
       "  <thead>\n",
       "    <tr style=\"text-align: right;\">\n",
       "      <th></th>\n",
       "      <th>fsize</th>\n",
       "      <th>ftagnum</th>\n",
       "      <th>flinecount</th>\n",
       "      <th>ftagtype</th>\n",
       "      <th>fflag</th>\n",
       "    </tr>\n",
       "  </thead>\n",
       "  <tbody>\n",
       "    <tr>\n",
       "      <th>0</th>\n",
       "      <td>18853</td>\n",
       "      <td>234</td>\n",
       "      <td>332</td>\n",
       "      <td>22</td>\n",
       "      <td>0</td>\n",
       "    </tr>\n",
       "    <tr>\n",
       "      <th>1</th>\n",
       "      <td>43972</td>\n",
       "      <td>441</td>\n",
       "      <td>912</td>\n",
       "      <td>21</td>\n",
       "      <td>0</td>\n",
       "    </tr>\n",
       "    <tr>\n",
       "      <th>2</th>\n",
       "      <td>37773</td>\n",
       "      <td>454</td>\n",
       "      <td>641</td>\n",
       "      <td>26</td>\n",
       "      <td>0</td>\n",
       "    </tr>\n",
       "    <tr>\n",
       "      <th>3</th>\n",
       "      <td>6247</td>\n",
       "      <td>78</td>\n",
       "      <td>145</td>\n",
       "      <td>16</td>\n",
       "      <td>0</td>\n",
       "    </tr>\n",
       "    <tr>\n",
       "      <th>4</th>\n",
       "      <td>30678</td>\n",
       "      <td>487</td>\n",
       "      <td>499</td>\n",
       "      <td>27</td>\n",
       "      <td>0</td>\n",
       "    </tr>\n",
       "  </tbody>\n",
       "</table>\n",
       "</div>"
      ],
      "text/plain": [
       "   fsize  ftagnum  flinecount  ftagtype  fflag\n",
       "0  18853      234         332        22      0\n",
       "1  43972      441         912        21      0\n",
       "2  37773      454         641        26      0\n",
       "3   6247       78         145        16      0\n",
       "4  30678      487         499        27      0"
      ]
     },
     "execution_count": 4,
     "metadata": {},
     "output_type": "execute_result"
    }
   ],
   "source": [
    "edudf.head()"
   ]
  },
  {
   "cell_type": "code",
   "execution_count": null,
   "metadata": {
    "collapsed": false
   },
   "outputs": [],
   "source": []
  },
  {
   "cell_type": "code",
   "execution_count": 40,
   "metadata": {
    "collapsed": false
   },
   "outputs": [
    {
     "data": {
      "text/html": [
       "<div>\n",
       "<table border=\"1\" class=\"dataframe\">\n",
       "  <thead>\n",
       "    <tr style=\"text-align: right;\">\n",
       "      <th></th>\n",
       "      <th>fsize</th>\n",
       "      <th>ftagnum</th>\n",
       "      <th>flinecount</th>\n",
       "      <th>ftagtype</th>\n",
       "    </tr>\n",
       "  </thead>\n",
       "  <tbody>\n",
       "    <tr>\n",
       "      <th>985</th>\n",
       "      <td>38641</td>\n",
       "      <td>499</td>\n",
       "      <td>778</td>\n",
       "      <td>32</td>\n",
       "    </tr>\n",
       "    <tr>\n",
       "      <th>986</th>\n",
       "      <td>83248</td>\n",
       "      <td>1326</td>\n",
       "      <td>1174</td>\n",
       "      <td>28</td>\n",
       "    </tr>\n",
       "    <tr>\n",
       "      <th>987</th>\n",
       "      <td>30644</td>\n",
       "      <td>520</td>\n",
       "      <td>705</td>\n",
       "      <td>18</td>\n",
       "    </tr>\n",
       "    <tr>\n",
       "      <th>988</th>\n",
       "      <td>34000</td>\n",
       "      <td>356</td>\n",
       "      <td>372</td>\n",
       "      <td>36</td>\n",
       "    </tr>\n",
       "    <tr>\n",
       "      <th>989</th>\n",
       "      <td>56146</td>\n",
       "      <td>552</td>\n",
       "      <td>1019</td>\n",
       "      <td>29</td>\n",
       "    </tr>\n",
       "  </tbody>\n",
       "</table>\n",
       "</div>"
      ],
      "text/plain": [
       "     fsize  ftagnum  flinecount  ftagtype\n",
       "985  38641      499         778        32\n",
       "986  83248     1326        1174        28\n",
       "987  30644      520         705        18\n",
       "988  34000      356         372        36\n",
       "989  56146      552        1019        29"
      ]
     },
     "execution_count": 40,
     "metadata": {},
     "output_type": "execute_result"
    }
   ],
   "source": [
    "eduX = edudf[[\"fsize\",\"ftagnum\",\"flinecount\",\"ftagtype\",]]\n",
    "eduX.tail()"
   ]
  },
  {
   "cell_type": "code",
   "execution_count": 39,
   "metadata": {
    "collapsed": false
   },
   "outputs": [
    {
     "data": {
      "text/html": [
       "<div>\n",
       "<table border=\"1\" class=\"dataframe\">\n",
       "  <thead>\n",
       "    <tr style=\"text-align: right;\">\n",
       "      <th></th>\n",
       "      <th>fsize</th>\n",
       "      <th>ftagnum</th>\n",
       "      <th>flinecount</th>\n",
       "      <th>ftagtype</th>\n",
       "    </tr>\n",
       "  </thead>\n",
       "  <tbody>\n",
       "    <tr>\n",
       "      <th>136</th>\n",
       "      <td>1332</td>\n",
       "      <td>26</td>\n",
       "      <td>43</td>\n",
       "      <td>16</td>\n",
       "    </tr>\n",
       "    <tr>\n",
       "      <th>137</th>\n",
       "      <td>203</td>\n",
       "      <td>0</td>\n",
       "      <td>2</td>\n",
       "      <td>0</td>\n",
       "    </tr>\n",
       "    <tr>\n",
       "      <th>138</th>\n",
       "      <td>285216</td>\n",
       "      <td>5487</td>\n",
       "      <td>109</td>\n",
       "      <td>24</td>\n",
       "    </tr>\n",
       "    <tr>\n",
       "      <th>139</th>\n",
       "      <td>7654</td>\n",
       "      <td>37</td>\n",
       "      <td>55</td>\n",
       "      <td>14</td>\n",
       "    </tr>\n",
       "    <tr>\n",
       "      <th>140</th>\n",
       "      <td>1202</td>\n",
       "      <td>21</td>\n",
       "      <td>5</td>\n",
       "      <td>16</td>\n",
       "    </tr>\n",
       "  </tbody>\n",
       "</table>\n",
       "</div>"
      ],
      "text/plain": [
       "      fsize  ftagnum  flinecount  ftagtype\n",
       "136    1332       26          43        16\n",
       "137     203        0           2         0\n",
       "138  285216     5487         109        24\n",
       "139    7654       37          55        14\n",
       "140    1202       21           5        16"
      ]
     },
     "execution_count": 39,
     "metadata": {},
     "output_type": "execute_result"
    }
   ],
   "source": [
    "shellX = shelldf[[\"fsize\",\"ftagnum\",\"flinecount\",\"ftagtype\",]]\n",
    "shellX.tail()"
   ]
  },
  {
   "cell_type": "code",
   "execution_count": 7,
   "metadata": {
    "collapsed": false
   },
   "outputs": [],
   "source": [
    "eduy = edudf[['fflag']]\n",
    "shelly = shelldf[['fflag']]"
   ]
  },
  {
   "cell_type": "code",
   "execution_count": 8,
   "metadata": {
    "collapsed": false
   },
   "outputs": [
    {
     "data": {
      "image/png": "[encoded data removed]",
      "text/plain": [
       "<matplotlib.figure.Figure at 0x7f2c53f54c10>"
      ]
     },
     "metadata": {},
     "output_type": "display_data"
    }
   ],
   "source": [
    "import pylab as pl\n",
    "\n",
    "pl.figure(figsize=(8,6),dpi=100)\n",
    "pl.plot(edudf['ftagnum'],edudf['ftagtype'],'.',color='blue', label='edu')\n",
    "pl.plot(shelldf['ftagnum'],shelldf['ftagtype'],'.',color='red', label='shell')\n",
    "pl.xlabel('ftagnum')\n",
    "pl.ylabel('ftagtype')\n",
    "\n",
    "pl.legend()\n",
    "pl.title('total num of tags and total type of tags')\n",
    "pl.show()"
   ]
  },
  {
   "cell_type": "code",
   "execution_count": 9,
   "metadata": {
    "collapsed": false
   },
   "outputs": [
    {
     "data": {
      "image/png": "[encoded data removed]",
      "text/plain": [
       "<matplotlib.figure.Figure at 0x7f2c51ee7b90>"
      ]
     },
     "metadata": {},
     "output_type": "display_data"
    }
   ],
   "source": [
    "pl.figure(figsize=(16,12))\n",
    "\n",
    "pl.plot(edudf['fsize'],edudf['flinecount'],'.',color='blue', label='edu')\n",
    "pl.plot(shelldf['fsize'],shelldf['flinecount'],'.',color='red', label='shell')\n",
    "pl.xlabel('fsize')\n",
    "pl.ylabel('flinecount')\n",
    "\n",
    "pl.legend()\n",
    "pl.title('fsize and flinecount')\n",
    "pl.show()"
   ]
  },
  {
   "cell_type": "code",
   "execution_count": 38,
   "metadata": {
    "collapsed": false
   },
   "outputs": [
    {
     "name": "stdout",
     "output_type": "stream",
     "text": [
      "数据集 0 :: 准确率： 0.895721925134 \t精确率： 0.444444444444 \t召回率： 0.216216216216 \t错误率： 0.104278074866\n",
      "数据集 1 :: 准确率： 0.855614973262 \t精确率： 0.391304347826 \t召回率： 0.183673469388 \t错误率： 0.144385026738\n",
      "数据集 2 :: 准确率： 0.917112299465 \t精确率： 0.55 \t召回率： 0.333333333333 \t错误率： 0.0828877005348\n",
      "数据集 3 :: 准确率： 0.877005347594 \t精确率： 0.608695652174 \t召回率： 0.274509803922 \t错误率： 0.122994652406\n",
      "数据集 4 :: 准确率： 0.890374331551 \t精确率： 0.625 \t召回率： 0.222222222222 \t错误率： 0.109625668449\n",
      "数据集 5 :: 准确率： 0.909090909091 \t精确率： 0.625 \t召回率： 0.263157894737 \t错误率： 0.0909090909091\n",
      "数据集 6 :: 准确率： 0.893048128342 \t精确率： 0.636363636364 \t召回率： 0.162790697674 \t错误率： 0.106951871658\n",
      "数据集 7 :: 准确率： 0.893048128342 \t精确率： 0.727272727273 \t召回率： 0.32 \t错误率： 0.106951871658\n",
      "数据集 8 :: 准确率： 0.852941176471 \t精确率： 0.5 \t召回率： 0.218181818182 \t错误率： 0.147058823529\n",
      "数据集 9 :: 准确率： 0.890374331551 \t精确率： 0.733333333333 \t召回率： 0.229166666667 \t错误率： 0.109625668449\n"
     ]
    }
   ],
   "source": [
    "# 数据集合划分\n",
    "from sklearn import metrics\n",
    "from sklearn.cross_validation import train_test_split\n",
    "from sklearn.naive_bayes import GaussianNB\n",
    "totalLocation=\"totaldata.txt\"\n",
    "totoaldf = pd.read_csv(totalLocation,sep=\"\\t\", header=None,names = [\"fsize\",\"ftagnum\",\"flinecount\",\"ftagtype\",\"fflag\"])\n",
    "totalX = totoaldf[[\"fsize\",\"ftagnum\",\"flinecount\",\"ftagtype\",]]\n",
    "totaly = totoaldf[['fflag']]\n",
    "for randomNum in range(0,10):\n",
    "    X_train, X_test, y_train, y_test = train_test_split(totalX, totaly, test_size=0.33, random_state=randomNum)\n",
    "    clf = GaussianNB()\n",
    "    #拟合数据\n",
    "    clf.fit(X_train, y_train)\n",
    "    y_pred_class = clf.predict(X_test)\n",
    "    # calculate accuracy\n",
    "    print '数据集',randomNum,\"::\",\n",
    "    print '准确率：',metrics.accuracy_score(y_test, y_pred_class),\"\\t\",\n",
    "    print '精确率：',metrics.precision_score(y_test,y_pred_class),\"\\t\",\n",
    "    print '召回率：',metrics.recall_score(y_test,y_pred_class),\"\\t\",\n",
    "    print '错误率：',1-(metrics.accuracy_score(y_test, y_pred_class))"
   ]
  },
  {
   "cell_type": "code",
   "execution_count": 11,
   "metadata": {
    "collapsed": false
   },
   "outputs": [
    {
     "name": "stderr",
     "output_type": "stream",
     "text": [
      "/home/yaoleo/anaconda2/lib/python2.7/site-packages/sklearn/utils/validation.py:526: DataConversionWarning: A column-vector y was passed when a 1d array was expected. Please change the shape of y to (n_samples, ), for example using ravel().\n",
      "  y = column_or_1d(y, warn=True)\n"
     ]
    },
    {
     "data": {
      "text/plain": [
       "GaussianNB(priors=None)"
      ]
     },
     "execution_count": 11,
     "metadata": {},
     "output_type": "execute_result"
    }
   ],
   "source": [
    "\n"
   ]
  },
  {
   "cell_type": "code",
   "execution_count": 12,
   "metadata": {
    "collapsed": false
   },
   "outputs": [
    {
     "data": {
      "text/plain": [
       "0.89037433155080214"
      ]
     },
     "execution_count": 12,
     "metadata": {},
     "output_type": "execute_result"
    }
   ],
   "source": [
    "clf.score(X_test, y_test) \n"
   ]
  },
  {
   "cell_type": "code",
   "execution_count": 13,
   "metadata": {
    "collapsed": false
   },
   "outputs": [],
   "source": [
    "y_pred_class = clf.predict(X_test)"
   ]
  },
  {
   "cell_type": "code",
   "execution_count": 35,
   "metadata": {
    "collapsed": false
   },
   "outputs": [
    {
     "name": "stdout",
     "output_type": "stream",
     "text": [
      "0.890374331551\n",
      "准确率： 0.890374331551\n",
      "精确率： 0.777777777778\n",
      "召回率： 0.274509803922\n",
      "错误率： 0.109625668449\n"
     ]
    }
   ],
   "source": [
    "# calculate accuracy\n",
    "from sklearn import metrics\n",
    "print metrics.accuracy_score(y_test, y_pred_class)\n",
    "print '准确率：',metrics.accuracy_score(y_test, y_pred_class)\n",
    "print '精确率：',metrics.precision_score(y_test,y_pred_class)\n",
    "print '召回率：',metrics.recall_score(y_test,y_pred_class)\n",
    "print '错误率：',1-(metrics.accuracy_score(y_test, y_pred_class))"
   ]
  },
  {
   "cell_type": "code",
   "execution_count": 15,
   "metadata": {
    "collapsed": false
   },
   "outputs": [
    {
     "data": {
      "text/plain": [
       "Perceptron(alpha=0.0001, class_weight=None, eta0=0.1, fit_intercept=True,\n",
       "      n_iter=40, n_jobs=1, penalty=None, random_state=0, shuffle=True,\n",
       "      verbose=0, warm_start=False)"
      ]
     },
     "execution_count": 15,
     "metadata": {},
     "output_type": "execute_result"
    }
   ],
   "source": [
    "# 训练感知机模型\n",
    "from sklearn.linear_model import Perceptron\n",
    "# n_iter：可以理解成梯度下降中迭代的次数\n",
    "# eta0：可以理解成梯度下降中的学习率\n",
    "# random_state：设置随机种子的，为了每次迭代都有相同的训练集顺序\n",
    "ppn = Perceptron(n_iter=40, eta0=0.1, random_state=0)\n",
    "ppn.fit(X_train, y_train)"
   ]
  },
  {
   "cell_type": "code",
   "execution_count": 22,
   "metadata": {
    "collapsed": false
   },
   "outputs": [
    {
     "data": {
      "text/plain": [
       "{'alpha': 0.0001,\n",
       " 'class_weight': None,\n",
       " 'eta0': 0.1,\n",
       " 'fit_intercept': True,\n",
       " 'n_iter': 40,\n",
       " 'n_jobs': 1,\n",
       " 'penalty': None,\n",
       " 'random_state': 0,\n",
       " 'shuffle': True,\n",
       " 'verbose': 0,\n",
       " 'warm_start': False}"
      ]
     },
     "execution_count": 22,
     "metadata": {},
     "output_type": "execute_result"
    }
   ],
   "source": [
    "ppn.get_params()"
   ]
  },
  {
   "cell_type": "code",
   "execution_count": 23,
   "metadata": {
    "collapsed": false
   },
   "outputs": [
    {
     "name": "stdout",
     "output_type": "stream",
     "text": [
      "[0 0 0 0 0 1 0 0 0 0 0 1 0 0 0 0 0 0 0 0 0 0 0 0 0 1 0 0 0 0 0 0 0 0 0 0 0\n",
      " 0 0 0 0 0 0 0 0 0 0 0 0 0 0 0 0 0 0 0 0 0 0 0 0 0 0 1 0 0 0 0 0 0 0 0 0 0\n",
      " 0 0 0 0 0 0 0 1 0 0 0 0 0 0 0 0 0 0 0 0 0 0 0 0 0 0 0 0 0 0 0 0 0 0 0 0 0\n",
      " 0 0 0 0 0 0 0 0 0 0 0 0 0 0 0 0 0 0 0 0 0 0 0 0 0 0 0 0 0 0 0 0 0 0 0 1 0\n",
      " 0 0 0 0 0 0 0 0 0 0 0 0 0 0 0 0 0 0 0 0 0 1 0 0 0 0 0 0 0 0 0 0 0 0 0 0 0\n",
      " 0 0 0 0 0 0 0 0 0 0 0 0 0 0 0 0 0 0 0 1 0 0 0 0 0 0 0 0 0 0 0 0 0 0 0 0 0\n",
      " 1 0 1 0 0 0 0 0 0 0 0 0 0 0 0 0 0 0 0 0 0 0 0 0 0 0 0 0 0 0 0 0 0 1 0 0 0\n",
      " 0 0 0 0 0 0 0 0 0 0 0 0 0 0 0 0 0 0 0 0 0 0 0 0 0 0 0 0 0 0 0 0 0 0 0 0 0\n",
      " 0 0 0 0 0 0 0 0 0 0 0 0 0 0 0 0 0 0 0 0 0 0 0 0 0 0 0 0 0 0 0 0 0 0 0 0 0\n",
      " 0 0 0 0 0 0 0 0 0 0 0 0 0 0 0 0 0 0 0 0 0 0 0 0 0 0 0 0 0 0 0 0 0 0 0 0 0\n",
      " 1 0 0 0]\n"
     ]
    }
   ],
   "source": [
    "# 分类测试集，这将返回一个测试结果的数组\n",
    "y_pred = ppn.predict(X_test)\n",
    "# 计算模型在测试集上的准确性，我的结果为0.9，还不错\n",
    "metrics.accuracy_score(y_test, y_pred)"
   ]
  },
  {
   "cell_type": "code",
   "execution_count": 24,
   "metadata": {
    "collapsed": false
   },
   "outputs": [
    {
     "data": {
      "text/plain": [
       "SVR(C=1.0, cache_size=200, coef0=0.0, degree=3, epsilon=0.1, gamma='auto',\n",
       "  kernel='rbf', max_iter=-1, shrinking=True, tol=0.001, verbose=False)"
      ]
     },
     "execution_count": 24,
     "metadata": {},
     "output_type": "execute_result"
    }
   ],
   "source": [
    "from sklearn import svm\n",
    "svr = svm.SVR()\n",
    "svr.fit(X_train, y_train) "
   ]
  },
  {
   "cell_type": "code",
   "execution_count": 30,
   "metadata": {
    "collapsed": false
   },
   "outputs": [
    {
     "data": {
      "text/plain": [
       "0.0062093454293148387"
      ]
     },
     "execution_count": 30,
     "metadata": {},
     "output_type": "execute_result"
    }
   ],
   "source": [
    "y_pred = svr.predict(X_test)\n",
    "svr.score(X_test, y_test, sample_weight=None)"
   ]
  },
  {
   "cell_type": "code",
   "execution_count": null,
   "metadata": {
    "collapsed": true
   },
   "outputs": [],
   "source": []
  }
 ],
 "metadata": {
  "kernelspec": {
   "display_name": "Python 2",
   "language": "python",
   "name": "python2"
  },
  "language_info": {
   "codemirror_mode": {
    "name": "ipython",
    "version": 2
   },
   "file_extension": ".py",
   "mimetype": "text/x-python",
   "name": "python",
   "nbconvert_exporter": "python",
   "pygments_lexer": "ipython2",
   "version": "2.7.13"
  }
 },
 "nbformat": 4,
 "nbformat_minor": 2
}
